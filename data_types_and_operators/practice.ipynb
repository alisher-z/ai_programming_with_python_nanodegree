{
 "cells": [
  {
   "cell_type": "markdown",
   "metadata": {},
   "source": [
    "write an operator that calculates the average of 23, 32 and 64 \n",
    "place the expression in this print statement"
   ]
  },
  {
   "cell_type": "code",
   "execution_count": 1,
   "metadata": {},
   "outputs": [
    {
     "name": "stdout",
     "output_type": "stream",
     "text": [
      "39.666666666666664\n"
     ]
    }
   ],
   "source": [
    "print((23+32+64)/3)"
   ]
  },
  {
   "cell_type": "markdown",
   "metadata": {},
   "source": [
    "in this quiz your're going to do some calculations for a tiler. two parts of a floor need tiling. one part is **9 tiles wide by 7 tiles long**, the other is **5 tiles wide by 7 tiles long**. tiles come in packages of 6.\n",
    "\n",
    "1. how many tiles are needed?\n",
    "2. you buy **17 packages of tiles containing 6 tiles each**. how many tiles will be left over?"
   ]
  },
  {
   "cell_type": "code",
   "execution_count": null,
   "metadata": {},
   "outputs": [],
   "source": [
    "# 9x7"
   ]
  }
 ],
 "metadata": {
  "kernelspec": {
   "display_name": "base",
   "language": "python",
   "name": "python3"
  },
  "language_info": {
   "codemirror_mode": {
    "name": "ipython",
    "version": 3
   },
   "file_extension": ".py",
   "mimetype": "text/x-python",
   "name": "python",
   "nbconvert_exporter": "python",
   "pygments_lexer": "ipython3",
   "version": "3.12.7"
  }
 },
 "nbformat": 4,
 "nbformat_minor": 2
}
