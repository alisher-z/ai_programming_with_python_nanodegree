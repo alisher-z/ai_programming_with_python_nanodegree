{
 "cells": [
  {
   "cell_type": "markdown",
   "metadata": {},
   "source": [
    "# DATA TYPES AND OPERATORS"
   ]
  },
  {
   "cell_type": "markdown",
   "metadata": {},
   "source": [
    "##### **Average Electricity Bill**\n",
    "My electricity bills for the last three months have been **$23**, **$32** and **$64**. What is the **average** monthly electricity bill over the three month period? Write an expression to calculate the mean, and use **print()** to view the result.\n",
    "\n",
    "* write an expression that calcultes the average of 23, 32 and 64\n",
    "* place the expression in this **print** statement"
   ]
  },
  {
   "cell_type": "code",
   "execution_count": 1,
   "metadata": {},
   "outputs": [
    {
     "name": "stdout",
     "output_type": "stream",
     "text": [
      "39.666666666666664\n"
     ]
    }
   ],
   "source": [
    "print((23+32+64)/3)"
   ]
  },
  {
   "cell_type": "markdown",
   "metadata": {},
   "source": [
    "##### **Calculate**\n",
    "In this quiz you're going to do some calculations for a tiler. Two parts of a floor need tiling. One part is **9 tiles wide by 7** tiles long, the other is **5 tiles wide by 7** tiles long. Tiles come in packages of 6.\n",
    "\n",
    "1. **print** how many tiles are needed?\n",
    "2. You buy 17 packages of tiles containing 6 tiles each. **print** how many tiles will be left over?"
   ]
  },
  {
   "cell_type": "code",
   "execution_count": 4,
   "metadata": {},
   "outputs": [
    {
     "name": "stdout",
     "output_type": "stream",
     "text": [
      "number of tiles needed:\n",
      "98\n",
      "number of tile left over:\n",
      "4\n"
     ]
    }
   ],
   "source": [
    "# 9x7\n",
    "# 5x7\n",
    "\n",
    "print('number of tiles needed:')\n",
    "print(9*7 + 5*7)\n",
    "\n",
    "print('number of tile left over:')\n",
    "print((17*6) - (9*7 + 5*7))"
   ]
  }
 ],
 "metadata": {
  "kernelspec": {
   "display_name": "base",
   "language": "python",
   "name": "python3"
  },
  "language_info": {
   "codemirror_mode": {
    "name": "ipython",
    "version": 3
   },
   "file_extension": ".py",
   "mimetype": "text/x-python",
   "name": "python",
   "nbconvert_exporter": "python",
   "pygments_lexer": "ipython3",
   "version": "3.12.7"
  }
 },
 "nbformat": 4,
 "nbformat_minor": 2
}
